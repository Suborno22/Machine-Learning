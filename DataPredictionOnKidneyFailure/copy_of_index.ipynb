{
  "cells": [
    {
      "cell_type": "markdown",
      "metadata": {
        "id": "view-in-github",
        "colab_type": "text"
      },
      "source": [
        "<a href=\"https://colab.research.google.com/github/Suborno22/DataPredictionOnKidneyFailure/blob/master/copy_of_index.ipynb\" target=\"_parent\"><img src=\"https://colab.research.google.com/assets/colab-badge.svg\" alt=\"Open In Colab\"/></a>"
      ]
    },
    {
      "cell_type": "code",
      "execution_count": null,
      "metadata": {
        "id": "g83w1gi1NwnI",
        "outputId": "6474e04a-8ccc-4178-ca8d-eaa93188fdb7",
        "colab": {
          "base_uri": "https://localhost:8080/"
        }
      },
      "outputs": [
        {
          "output_type": "stream",
          "name": "stdout",
          "text": [
            "zip file exists, so it will be used directly\n",
            "\n",
            "Rows:  400 \n",
            "Columns:  26\n",
            "<class 'pandas.core.frame.DataFrame'>\n",
            "RangeIndex: 400 entries, 0 to 399\n",
            "Data columns (total 26 columns):\n",
            " #   Column          Non-Null Count  Dtype  \n",
            "---  ------          --------------  -----  \n",
            " 0   id              400 non-null    int64  \n",
            " 1   age             391 non-null    float64\n",
            " 2   bp              388 non-null    float64\n",
            " 3   sg              353 non-null    float64\n",
            " 4   al              354 non-null    float64\n",
            " 5   su              351 non-null    float64\n",
            " 6   rbc             248 non-null    object \n",
            " 7   pc              335 non-null    object \n",
            " 8   pcc             396 non-null    object \n",
            " 9   ba              396 non-null    object \n",
            " 10  bgr             356 non-null    float64\n",
            " 11  bu              381 non-null    float64\n",
            " 12  sc              383 non-null    float64\n",
            " 13  sod             313 non-null    float64\n",
            " 14  pot             312 non-null    float64\n",
            " 15  hemo            348 non-null    float64\n",
            " 16  pcv             330 non-null    object \n",
            " 17  wc              295 non-null    object \n",
            " 18  rc              270 non-null    object \n",
            " 19  htn             398 non-null    object \n",
            " 20  dm              398 non-null    object \n",
            " 21  cad             398 non-null    object \n",
            " 22  appet           399 non-null    object \n",
            " 23  pe              399 non-null    object \n",
            " 24  ane             399 non-null    object \n",
            " 25  classification  400 non-null    object \n",
            "dtypes: float64(11), int64(1), object(14)\n",
            "memory usage: 81.4+ KB\n"
          ]
        }
      ],
      "source": [
        "import os\n",
        "import json as js\n",
        "import pandas as pd\n",
        "import matplotlib.pyplot as plt\n",
        "import seaborn as sns\n",
        "import numpy as np\n",
        "\n",
        "# Load Kaggle credentials\n",
        "with open('kaggle.json') as f:\n",
        "    data = js.load(f)\n",
        "    username = data['username']\n",
        "    keys = data['key']\n",
        "\n",
        "# Set Kaggle environment variables\n",
        "os.environ['KAGGLE_USERNAME'] = username\n",
        "os.environ['KAGGLE_KEY'] = keys\n",
        "\n",
        "# Check for zip file existence\n",
        "path_to_zip_file = 'ckdisease.zip'\n",
        "if not os.path.exists(path_to_zip_file):\n",
        "    print('zip file does not exist, so the file will be downloaded')\n",
        "    os.system('kaggle datasets download -d mansoordaku/ckdisease')\n",
        "else:\n",
        "    print('zip file exists, so it will be used directly\\n')\n",
        "\n",
        "# Read the CSV file from the zip archive\n",
        "df = pd.read_csv(path_to_zip_file)\n",
        "\n",
        "# Print shape of the DataFrame\n",
        "rows, columns = df.shape\n",
        "print('Rows: ', rows, '\\nColumns: ', columns)\n",
        "\n",
        "df.head();\n"
      ]
    },
    {
      "cell_type": "code",
      "source": [
        "null_sum = df.isnull().sum()\n",
        "print(null_sum)"
      ],
      "metadata": {
        "id": "PMmrWAtgOn05",
        "outputId": "98c4019b-51d5-4b7f-887d-dae618c65e72",
        "colab": {
          "base_uri": "https://localhost:8080/"
        }
      },
      "execution_count": null,
      "outputs": [
        {
          "output_type": "stream",
          "name": "stdout",
          "text": [
            "id                  0\n",
            "age                 9\n",
            "bp                 12\n",
            "sg                 47\n",
            "al                 46\n",
            "su                 49\n",
            "rbc               152\n",
            "pc                 65\n",
            "pcc                 4\n",
            "ba                  4\n",
            "bgr                44\n",
            "bu                 19\n",
            "sc                 17\n",
            "sod                87\n",
            "pot                88\n",
            "hemo               52\n",
            "pcv                70\n",
            "wc                105\n",
            "rc                130\n",
            "htn                 2\n",
            "dm                  2\n",
            "cad                 2\n",
            "appet               1\n",
            "pe                  1\n",
            "ane                 1\n",
            "classification      0\n",
            "dtype: int64\n"
          ]
        }
      ]
    },
    {
      "cell_type": "code",
      "source": [],
      "metadata": {
        "id": "LDUKcsHFOuF8"
      },
      "execution_count": null,
      "outputs": []
    }
  ],
  "metadata": {
    "kernelspec": {
      "display_name": "Python 3",
      "language": "python",
      "name": "python3"
    },
    "language_info": {
      "codemirror_mode": {
        "name": "ipython",
        "version": 3
      },
      "file_extension": ".py",
      "mimetype": "text/x-python",
      "name": "python",
      "nbconvert_exporter": "python",
      "pygments_lexer": "ipython3",
      "version": "3.10.12"
    },
    "colab": {
      "provenance": [],
      "include_colab_link": true
    }
  },
  "nbformat": 4,
  "nbformat_minor": 0
}